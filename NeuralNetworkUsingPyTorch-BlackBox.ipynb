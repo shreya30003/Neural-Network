{
  "cells": [
    {
      "cell_type": "code",
      "execution_count": null,
      "metadata": {
        "id": "cWjmZ9T3JcbP"
      },
      "outputs": [],
      "source": [
        "import pandas as pd\n",
        "import seaborn as sns\n",
        "import numpy as np\n",
        "import torch\n",
        "import os\n",
        "from tqdm import tqdm\n",
        "from pylab import rcParams\n",
        "import matplotlib.pyplot as plt\n",
        "from matplotlib import rc\n",
        "from sklearn.model_selection import train_test_split\n",
        "from sklearn.metrics import confusion_matrix, classification_report\n",
        "from torch import nn, optim\n",
        "import torch.nn.functional as F"
      ]
    },
    {
      "cell_type": "code",
      "execution_count": null,
      "metadata": {
        "id": "mGN8zu3IJlXp"
      },
      "outputs": [],
      "source": [
        "data = pd.read_csv(r\"/content/weatherAUS.csv\")"
      ]
    },
    {
      "cell_type": "code",
      "execution_count": null,
      "metadata": {
        "colab": {
          "base_uri": "https://localhost:8080/"
        },
        "id": "ZnIEHZxAQ1Jw",
        "outputId": "33c204a2-a66b-4d9d-bf2b-80e50ad505b3"
      },
      "outputs": [
        {
          "data": {
            "text/plain": [
              "(145460, 23)"
            ]
          },
          "execution_count": 29,
          "metadata": {},
          "output_type": "execute_result"
        }
      ],
      "source": [
        "data.shape  "
      ]
    },
    {
      "cell_type": "code",
      "execution_count": null,
      "metadata": {
        "colab": {
          "base_uri": "https://localhost:8080/"
        },
        "id": "dExAf_ftRkbT",
        "outputId": "3e89aad3-090c-464d-d79a-c1c304932e5e"
      },
      "outputs": [
        {
          "data": {
            "text/plain": [
              "Index(['Date', 'Location', 'MinTemp', 'MaxTemp', 'Rainfall', 'Evaporation',\n",
              "       'Sunshine', 'WindGustDir', 'WindGustSpeed', 'WindDir9am', 'WindDir3pm',\n",
              "       'WindSpeed9am', 'WindSpeed3pm', 'Humidity9am', 'Humidity3pm',\n",
              "       'Pressure9am', 'Pressure3pm', 'Cloud9am', 'Cloud3pm', 'Temp9am',\n",
              "       'Temp3pm', 'RainToday', 'RainTomorrow'],\n",
              "      dtype='object')"
            ]
          },
          "execution_count": 30,
          "metadata": {},
          "output_type": "execute_result"
        }
      ],
      "source": [
        "data.columns"
      ]
    },
    {
      "cell_type": "code",
      "execution_count": null,
      "metadata": {
        "id": "6G0zbYBSRms8"
      },
      "outputs": [],
      "source": [
        "col = ['Rainfall', 'Humidity3pm', 'Pressure9am', 'RainToday', 'RainTomorrow']\n",
        "data = data[col]"
      ]
    },
    {
      "cell_type": "code",
      "execution_count": null,
      "metadata": {
        "colab": {
          "base_uri": "https://localhost:8080/"
        },
        "id": "stJf4uKURoWp",
        "outputId": "d6a385a2-c2d0-4381-c18b-f7864451de11"
      },
      "outputs": [
        {
          "name": "stderr",
          "output_type": "stream",
          "text": [
            "/usr/local/lib/python3.7/dist-packages/pandas/core/generic.py:6619: SettingWithCopyWarning: \n",
            "A value is trying to be set on a copy of a slice from a DataFrame\n",
            "\n",
            "See the caveats in the documentation: https://pandas.pydata.org/pandas-docs/stable/user_guide/indexing.html#returning-a-view-versus-a-copy\n",
            "  return self._update_inplace(result)\n"
          ]
        }
      ],
      "source": [
        "data['RainToday'].replace({'No': 0, 'Yes': 1}, inplace = True)\n",
        "data['RainTomorrow'].replace({'No': 0, 'Yes': 1}, inplace = True)"
      ]
    },
    {
      "cell_type": "code",
      "execution_count": null,
      "metadata": {
        "id": "6SpIGDBmRph9"
      },
      "outputs": [],
      "source": [
        "data = data.dropna(how='any')"
      ]
    },
    {
      "cell_type": "code",
      "execution_count": null,
      "metadata": {
        "colab": {
          "base_uri": "https://localhost:8080/",
          "height": 206
        },
        "id": "3blt82MIRq7h",
        "outputId": "2ff8868d-ba29-4dca-e433-0598759198e9"
      },
      "outputs": [
        {
          "data": {
            "text/html": [
              "\n",
              "  <div id=\"df-4d577fb9-d628-4e4c-bd1d-dc39094a3b27\">\n",
              "    <div class=\"colab-df-container\">\n",
              "      <div>\n",
              "<style scoped>\n",
              "    .dataframe tbody tr th:only-of-type {\n",
              "        vertical-align: middle;\n",
              "    }\n",
              "\n",
              "    .dataframe tbody tr th {\n",
              "        vertical-align: top;\n",
              "    }\n",
              "\n",
              "    .dataframe thead th {\n",
              "        text-align: right;\n",
              "    }\n",
              "</style>\n",
              "<table border=\"1\" class=\"dataframe\">\n",
              "  <thead>\n",
              "    <tr style=\"text-align: right;\">\n",
              "      <th></th>\n",
              "      <th>Rainfall</th>\n",
              "      <th>Humidity3pm</th>\n",
              "      <th>Pressure9am</th>\n",
              "      <th>RainToday</th>\n",
              "      <th>RainTomorrow</th>\n",
              "    </tr>\n",
              "  </thead>\n",
              "  <tbody>\n",
              "    <tr>\n",
              "      <th>0</th>\n",
              "      <td>0.6</td>\n",
              "      <td>22.0</td>\n",
              "      <td>1007.7</td>\n",
              "      <td>0.0</td>\n",
              "      <td>0.0</td>\n",
              "    </tr>\n",
              "    <tr>\n",
              "      <th>1</th>\n",
              "      <td>0.0</td>\n",
              "      <td>25.0</td>\n",
              "      <td>1010.6</td>\n",
              "      <td>0.0</td>\n",
              "      <td>0.0</td>\n",
              "    </tr>\n",
              "    <tr>\n",
              "      <th>2</th>\n",
              "      <td>0.0</td>\n",
              "      <td>30.0</td>\n",
              "      <td>1007.6</td>\n",
              "      <td>0.0</td>\n",
              "      <td>0.0</td>\n",
              "    </tr>\n",
              "    <tr>\n",
              "      <th>3</th>\n",
              "      <td>0.0</td>\n",
              "      <td>16.0</td>\n",
              "      <td>1017.6</td>\n",
              "      <td>0.0</td>\n",
              "      <td>0.0</td>\n",
              "    </tr>\n",
              "    <tr>\n",
              "      <th>4</th>\n",
              "      <td>1.0</td>\n",
              "      <td>33.0</td>\n",
              "      <td>1010.8</td>\n",
              "      <td>0.0</td>\n",
              "      <td>0.0</td>\n",
              "    </tr>\n",
              "  </tbody>\n",
              "</table>\n",
              "</div>\n",
              "      <button class=\"colab-df-convert\" onclick=\"convertToInteractive('df-4d577fb9-d628-4e4c-bd1d-dc39094a3b27')\"\n",
              "              title=\"Convert this dataframe to an interactive table.\"\n",
              "              style=\"display:none;\">\n",
              "        \n",
              "  <svg xmlns=\"http://www.w3.org/2000/svg\" height=\"24px\"viewBox=\"0 0 24 24\"\n",
              "       width=\"24px\">\n",
              "    <path d=\"M0 0h24v24H0V0z\" fill=\"none\"/>\n",
              "    <path d=\"M18.56 5.44l.94 2.06.94-2.06 2.06-.94-2.06-.94-.94-2.06-.94 2.06-2.06.94zm-11 1L8.5 8.5l.94-2.06 2.06-.94-2.06-.94L8.5 2.5l-.94 2.06-2.06.94zm10 10l.94 2.06.94-2.06 2.06-.94-2.06-.94-.94-2.06-.94 2.06-2.06.94z\"/><path d=\"M17.41 7.96l-1.37-1.37c-.4-.4-.92-.59-1.43-.59-.52 0-1.04.2-1.43.59L10.3 9.45l-7.72 7.72c-.78.78-.78 2.05 0 2.83L4 21.41c.39.39.9.59 1.41.59.51 0 1.02-.2 1.41-.59l7.78-7.78 2.81-2.81c.8-.78.8-2.07 0-2.86zM5.41 20L4 18.59l7.72-7.72 1.47 1.35L5.41 20z\"/>\n",
              "  </svg>\n",
              "      </button>\n",
              "      \n",
              "  <style>\n",
              "    .colab-df-container {\n",
              "      display:flex;\n",
              "      flex-wrap:wrap;\n",
              "      gap: 12px;\n",
              "    }\n",
              "\n",
              "    .colab-df-convert {\n",
              "      background-color: #E8F0FE;\n",
              "      border: none;\n",
              "      border-radius: 50%;\n",
              "      cursor: pointer;\n",
              "      display: none;\n",
              "      fill: #1967D2;\n",
              "      height: 32px;\n",
              "      padding: 0 0 0 0;\n",
              "      width: 32px;\n",
              "    }\n",
              "\n",
              "    .colab-df-convert:hover {\n",
              "      background-color: #E2EBFA;\n",
              "      box-shadow: 0px 1px 2px rgba(60, 64, 67, 0.3), 0px 1px 3px 1px rgba(60, 64, 67, 0.15);\n",
              "      fill: #174EA6;\n",
              "    }\n",
              "\n",
              "    [theme=dark] .colab-df-convert {\n",
              "      background-color: #3B4455;\n",
              "      fill: #D2E3FC;\n",
              "    }\n",
              "\n",
              "    [theme=dark] .colab-df-convert:hover {\n",
              "      background-color: #434B5C;\n",
              "      box-shadow: 0px 1px 3px 1px rgba(0, 0, 0, 0.15);\n",
              "      filter: drop-shadow(0px 1px 2px rgba(0, 0, 0, 0.3));\n",
              "      fill: #FFFFFF;\n",
              "    }\n",
              "  </style>\n",
              "\n",
              "      <script>\n",
              "        const buttonEl =\n",
              "          document.querySelector('#df-4d577fb9-d628-4e4c-bd1d-dc39094a3b27 button.colab-df-convert');\n",
              "        buttonEl.style.display =\n",
              "          google.colab.kernel.accessAllowed ? 'block' : 'none';\n",
              "\n",
              "        async function convertToInteractive(key) {\n",
              "          const element = document.querySelector('#df-4d577fb9-d628-4e4c-bd1d-dc39094a3b27');\n",
              "          const dataTable =\n",
              "            await google.colab.kernel.invokeFunction('convertToInteractive',\n",
              "                                                     [key], {});\n",
              "          if (!dataTable) return;\n",
              "\n",
              "          const docLinkHtml = 'Like what you see? Visit the ' +\n",
              "            '<a target=\"_blank\" href=https://colab.research.google.com/notebooks/data_table.ipynb>data table notebook</a>'\n",
              "            + ' to learn more about interactive tables.';\n",
              "          element.innerHTML = '';\n",
              "          dataTable['output_type'] = 'display_data';\n",
              "          await google.colab.output.renderOutput(dataTable, element);\n",
              "          const docLink = document.createElement('div');\n",
              "          docLink.innerHTML = docLinkHtml;\n",
              "          element.appendChild(docLink);\n",
              "        }\n",
              "      </script>\n",
              "    </div>\n",
              "  </div>\n",
              "  "
            ],
            "text/plain": [
              "   Rainfall  Humidity3pm  Pressure9am  RainToday  RainTomorrow\n",
              "0       0.6         22.0       1007.7        0.0           0.0\n",
              "1       0.0         25.0       1010.6        0.0           0.0\n",
              "2       0.0         30.0       1007.6        0.0           0.0\n",
              "3       0.0         16.0       1017.6        0.0           0.0\n",
              "4       1.0         33.0       1010.8        0.0           0.0"
            ]
          },
          "execution_count": 34,
          "metadata": {},
          "output_type": "execute_result"
        }
      ],
      "source": [
        "data.head()"
      ]
    },
    {
      "cell_type": "code",
      "execution_count": null,
      "metadata": {
        "colab": {
          "base_uri": "https://localhost:8080/",
          "height": 335
        },
        "id": "kyg1vS1nRvk5",
        "outputId": "005fba4a-397c-4550-b608-9b579afaf430"
      },
      "outputs": [
        {
          "name": "stderr",
          "output_type": "stream",
          "text": [
            "/usr/local/lib/python3.7/dist-packages/seaborn/_decorators.py:43: FutureWarning: Pass the following variable as a keyword arg: x. From version 0.12, the only valid positional argument will be `data`, and passing other arguments without an explicit keyword will result in an error or misinterpretation.\n",
            "  FutureWarning\n"
          ]
        },
        {
          "data": {
            "image/png": "[encoded data removed]",
            "text/plain": [
              "<Figure size 432x288 with 1 Axes>"
            ]
          },
          "metadata": {
            "needs_background": "light"
          },
          "output_type": "display_data"
        }
      ],
      "source": [
        "sns.countplot(data.RainTomorrow);"
      ]
    },
    {
      "cell_type": "code",
      "execution_count": null,
      "metadata": {
        "colab": {
          "base_uri": "https://localhost:8080/"
        },
        "id": "v8ABVcDuRxtH",
        "outputId": "a458adcd-6ff7-4046-8947-38111101bede"
      },
      "outputs": [
        {
          "data": {
            "text/plain": [
              "0.0    0.778762\n",
              "1.0    0.221238\n",
              "Name: RainTomorrow, dtype: float64"
            ]
          },
          "execution_count": 36,
          "metadata": {},
          "output_type": "execute_result"
        }
      ],
      "source": [
        "data.RainTomorrow.value_counts() / data.shape[0]"
      ]
    },
    {
      "cell_type": "code",
      "execution_count": null,
      "metadata": {
        "id": "4hhEfHCRR6-k"
      },
      "outputs": [],
      "source": [
        "X = data[['Rainfall', 'Humidity3pm', 'RainToday', 'Pressure9am']]\n",
        "Y = data[['RainTomorrow']]"
      ]
    },
    {
      "cell_type": "code",
      "execution_count": null,
      "metadata": {
        "id": "vGGtXViUR9VV"
      },
      "outputs": [],
      "source": [
        "X_train, X_test, Y_train, Y_test = train_test_split(X, Y, test_size = 0.2, random_state = None)"
      ]
    },
    {
      "cell_type": "code",
      "execution_count": null,
      "metadata": {
        "colab": {
          "base_uri": "https://localhost:8080/"
        },
        "id": "6D_COYZ4SFuh",
        "outputId": "801581a0-6310-43cc-dee8-d5d24dc128bf"
      },
      "outputs": [
        {
          "name": "stdout",
          "output_type": "stream",
          "text": [
            "torch.Size([99751, 4]) torch.Size([99751])\n",
            "torch.Size([24938, 4]) torch.Size([24938])\n"
          ]
        }
      ],
      "source": [
        "X_train = torch.from_numpy(X_train.to_numpy()).float()\n",
        "Y_train = torch.squeeze(torch.from_numpy(Y_train.to_numpy()).float())\n",
        "\n",
        "X_test = torch.from_numpy(X_test.to_numpy()).float()\n",
        "Y_test = torch.squeeze(torch.from_numpy(Y_test.to_numpy()).float())\n",
        "\n",
        "print(X_train.shape, Y_train.shape)\n",
        "print(X_test.shape, Y_test.shape)"
      ]
    },
    {
      "cell_type": "code",
      "execution_count": null,
      "metadata": {
        "colab": {
          "base_uri": "https://localhost:8080/",
          "height": 269
        },
        "id": "zQNewMpuSI1R",
        "outputId": "cd92c060-720c-47a0-d3c6-7c21e63bbe40"
      },
      "outputs": [
        {
          "data": {
            "image/png": "[encoded data removed]",
            "text/plain": [
              "<Figure size 432x288 with 1 Axes>"
            ]
          },
          "metadata": {
            "needs_background": "light"
          },
          "output_type": "display_data"
        }
      ],
      "source": [
        "ax = plt.gca()\n",
        "\n",
        "plt.plot(\n",
        "  np.linspace(-1, 1, 5), \n",
        "  F.relu(torch.linspace(-1, 1, steps=5)).numpy()\n",
        ")\n",
        "ax.set_ylim([-1.5, 1.5]);"
      ]
    },
    {
      "cell_type": "code",
      "execution_count": null,
      "metadata": {
        "colab": {
          "base_uri": "https://localhost:8080/",
          "height": 269
        },
        "id": "lTWlN7IHSKKc",
        "outputId": "822eadf0-055a-4db5-e273-813f50ad69cb"
      },
      "outputs": [
        {
          "data": {
            "image/png": "[encoded data removed]",
            "text/plain": [
              "<Figure size 432x288 with 1 Axes>"
            ]
          },
          "metadata": {
            "needs_background": "light"
          },
          "output_type": "display_data"
        }
      ],
      "source": [
        "ax = plt.gca()\n",
        "\n",
        "plt.plot(\n",
        "  np.linspace(-10, 10, 100), \n",
        "  torch.sigmoid(torch.linspace(-10, 10, steps=100)).numpy()\n",
        ")\n",
        "ax.set_ylim([-1.5, 1.5]);"
      ]
    },
    {
      "cell_type": "code",
      "execution_count": null,
      "metadata": {
        "id": "BRkYp5zYSMdk"
      },
      "outputs": [],
      "source": [
        "criterion = nn.BCELoss()"
      ]
    },
    {
      "cell_type": "code",
      "execution_count": null,
      "metadata": {
        "id": "U9Z-NtRITcze"
      },
      "outputs": [],
      "source": [
        "def ann_viz(model, view=True, filename=\"network.gv\"):\n",
        "       from graphviz import Digraph\n",
        "\n",
        "    input_layer = 0\n",
        "    hidden_layers_nr = 0\n",
        "    layer_types = []\n",
        "    hidden_layers = []\n",
        "    output_layer = 0\n",
        "    layers = [layer for layer in model.modules() if type(layer) == torch.nn.Linear]\n",
        "\n",
        "    for layer in layers:\n",
        "        if layer == layers[0]:\n",
        "            input_layer = layer.in_features\n",
        "            hidden_layers_nr += 1\n",
        "            if type(layer) == torch.nn.Linear:                \n",
        "                hidden_layers.append(layer.out_features)\n",
        "                layer_types.append(\"Dense\")\n",
        "            else:\n",
        "                raise Exception(\"Input error\")\n",
        "\n",
        "        else:\n",
        "            if layer == layers[-1]:\n",
        "                output_layer = layer.out_features\n",
        "            else:\n",
        "                hidden_layers_nr += 1\n",
        "                if type(layer) == torch.nn.Linear:\n",
        "\n",
        "                    hidden_layers.append(layer.out_features)\n",
        "                    layer_types.append(\"Dense\")\n",
        "                else:\n",
        "                    raise Exception(\"Hidden error\")\n",
        "        last_layer_nodes = input_layer\n",
        "        nodes_up = input_layer\n",
        "\n",
        "    g = Digraph(\"g\", filename=filename)\n",
        "    n = 0\n",
        "    g.graph_attr.update(splines=\"false\", nodesep=\"0.5\", ranksep=\"0\", rankdir='LR')\n",
        "    # Input Layer\n",
        "    with g.subgraph(name=\"cluster_input\") as c:\n",
        "        if type(layers[0]) == torch.nn.Linear:\n",
        "            the_label = \"Input Layer\"\n",
        "            if layers[0].in_features > 10:\n",
        "                the_label += \" (+\" + str(layers[0].in_features - 10) + \")\"\n",
        "                input_layer = 10\n",
        "            c.attr(color=\"white\")\n",
        "            for i in range(0, input_layer):\n",
        "                n += 1\n",
        "                c.node(str(n))\n",
        "                c.attr(labeljust=\"1\")\n",
        "                c.attr(label=the_label, labelloc=\"bottom\")\n",
        "                c.attr(rank=\"same\")                \n",
        "                c.node_attr.update(\n",
        "                    width=\"0.65\",\n",
        "                    style=\"filled\",                    \n",
        "                    shape=\"circle\",\n",
        "                    color=HAPPY_COLORS_PALETTE[3],\n",
        "                    fontcolor=HAPPY_COLORS_PALETTE[3],\n",
        "                )\n",
        "    for i in range(0, hidden_layers_nr):\n",
        "        with g.subgraph(name=\"cluster_\" + str(i + 1)) as c:\n",
        "            if layer_types[i] == \"Dense\":\n",
        "                c.attr(color=\"white\")\n",
        "                c.attr(rank=\"same\")\n",
        "                the_label = f'Hidden Layer {i + 1}'\n",
        "                if layers[i].out_features > 10:\n",
        "                    the_label += \" (+\" + str(layers[i].out_features - 10) + \")\"\n",
        "                    hidden_layers[i] = 10\n",
        "                c.attr(labeljust=\"right\", labelloc=\"b\", label=the_label)\n",
        "                for j in range(0, hidden_layers[i]):\n",
        "                    n += 1\n",
        "                    c.node(\n",
        "                        str(n),\n",
        "                        width=\"0.65\",\n",
        "                        shape=\"circle\",\n",
        "                        style=\"filled\",\n",
        "                        color=HAPPY_COLORS_PALETTE[0],\n",
        "                        fontcolor=HAPPY_COLORS_PALETTE[0],\n",
        "                    )\n",
        "                    for h in range(nodes_up - last_layer_nodes + 1, nodes_up + 1):\n",
        "                        g.edge(str(h), str(n))\n",
        "                last_layer_nodes = hidden_layers[i]\n",
        "                nodes_up += hidden_layers[i]\n",
        "            else:\n",
        "                raise Exception(\"Hidden layer type not supported\")\n",
        "\n",
        "    with g.subgraph(name=\"cluster_output\") as c:\n",
        "        if type(layers[-1]) == torch.nn.Linear:\n",
        "            c.attr(color=\"white\")\n",
        "            c.attr(rank=\"same\")\n",
        "            c.attr(labeljust=\"1\")\n",
        "            for i in range(1, output_layer + 1):\n",
        "                n += 1\n",
        "                c.node(\n",
        "                    str(n),\n",
        "                    width=\"0.65\",\n",
        "                    shape=\"circle\",\n",
        "                    style=\"filled\",\n",
        "                    color=HAPPY_COLORS_PALETTE[4],\n",
        "                    fontcolor=HAPPY_COLORS_PALETTE[4],\n",
        "                    \n",
        "                )\n",
        "                for h in range(nodes_up - last_layer_nodes + 1, nodes_up + 1):\n",
        "                    g.edge(str(h), str(n))\n",
        "            c.attr(label=\"Output Layer\", labelloc=\"bottom\")\n",
        "            c.node_attr.update(\n",
        "                color=\"#2ecc71\", style=\"filled\", fontcolor=\"#2ecc71\", shape=\"circle\"\n",
        "            )\n",
        "\n",
        "    g.attr(arrowShape=\"none\")\n",
        "    g.edge_attr.update(arrowhead=\"none\", color=\"#707070\", penwidth=\"2\")\n",
        "    if view is True:\n",
        "        g.view()\n",
        "\n",
        "    return g"
      ]
    },
    {
      "cell_type": "code",
      "execution_count": null,
      "metadata": {
        "colab": {
          "base_uri": "https://localhost:8080/"
        },
        "id": "-JdmOgVPTgWb",
        "outputId": "953e4b1b-fbea-4c53-8887-b77c516eb3e6"
      },
      "outputs": [
        {
          "data": {
            "text/plain": [
              "<torch._C.Generator at 0x7f2a4217d670>"
            ]
          },
          "execution_count": 56,
          "metadata": {},
          "output_type": "execute_result"
        }
      ],
      "source": [
        "%matplotlib inline\n",
        "%config InlineBackend.figure_format='retina'\n",
        "\n",
        "sns.set(style='whitegrid', palette='muted', font_scale=1.2)\n",
        "\n",
        "HAPPY_COLORS_PALETTE = [\"#01BEFE\", \"#FFDD00\", \"#FF7D00\", \"#FF006D\", \"#93D30C\", \"#8F00FF\"]\n",
        "\n",
        "sns.set_palette(sns.color_palette(HAPPY_COLORS_PALETTE))\n",
        "\n",
        "rcParams['figure.figsize'] = 12, 8\n",
        "\n",
        "RANDOM_SEED = 42\n",
        "np.random.seed(RANDOM_SEED)\n",
        "torch.manual_seed(RANDOM_SEED)"
      ]
    },
    {
      "cell_type": "code",
      "execution_count": null,
      "metadata": {
        "id": "XBOusgBETKiB"
      },
      "outputs": [],
      "source": [
        "class Net(nn.Module):\n",
        "\n",
        "  def __init__(self, n_features):\n",
        "    super(Net, self).__init__()\n",
        "    self.fc1 = nn.Linear(n_features, 5)\n",
        "    self.fc2 = nn.Linear(5, 3)\n",
        "    self.fc3 = nn.Linear(3, 1)\n",
        "\n",
        "  def forward(self, x):\n",
        "    x = F.relu(self.fc1(x))\n",
        "    x = F.relu(self.fc2(x))\n",
        "    return torch.sigmoid(self.fc3(x))"
      ]
    },
    {
      "cell_type": "code",
      "execution_count": null,
      "metadata": {
        "colab": {
          "base_uri": "https://localhost:8080/",
          "height": 612
        },
        "id": "WNxgMJwxTTgy",
        "outputId": "f263db9c-faae-431a-bacf-c53f3d2c7dbb"
      },
      "outputs": [
        {
          "data": {
            "image/svg+xml": "<?xml version=\"1.0\" encoding=\"UTF-8\" standalone=\"no\"?>\n<!DOCTYPE svg PUBLIC \"-//W3C//DTD SVG 1.1//EN\"\n \"http://www.w3.org/Graphics/SVG/1.1/DTD/svg11.dtd\">\n<!-- Generated by graphviz version 2.40.1 (20161225.0304)\n -->\n<!-- Title: g Pages: 1 -->\n<svg width=\"424pt\" height=\"443pt\"\n viewBox=\"0.00 0.00 424.00 443.00\" xmlns=\"http://www.w3.org/2000/svg\" xmlns:xlink=\"http://www.w3.org/1999/xlink\">\n<g id=\"graph0\" class=\"graph\" transform=\"scale(1 1) rotate(0) translate(4 439)\">\n<title>g</title>\n<polygon fill=\"#ffffff\" stroke=\"transparent\" points=\"-4,4 -4,-439 420,-439 420,4 -4,4\"/>\n<g id=\"clust1\" class=\"cluster\">\n<title>cluster_input</title>\n<polygon fill=\"none\" stroke=\"#ffffff\" points=\"0,-49 0,-385 84,-385 84,-49 0,-49\"/>\n<text text-anchor=\"middle\" x=\"42\" y=\"-56.8\" font-family=\"Times,serif\" font-size=\"14.00\" fill=\"#000000\">Input Layer</text>\n</g>\n<g id=\"clust2\" class=\"cluster\">\n<title>cluster_1</title>\n<polygon fill=\"none\" stroke=\"#ffffff\" points=\"92,-8 92,-427 199,-427 199,-8 92,-8\"/>\n<text text-anchor=\"middle\" x=\"145.5\" y=\"-15.8\" font-family=\"Times,serif\" font-size=\"14.00\" fill=\"#000000\">Hidden Layer 1</text>\n</g>\n<g id=\"clust3\" class=\"cluster\">\n<title>cluster_2</title>\n<polygon fill=\"none\" stroke=\"#ffffff\" points=\"207,-91 207,-344 314,-344 314,-91 207,-91\"/>\n<text text-anchor=\"middle\" x=\"260.5\" y=\"-98.8\" font-family=\"Times,serif\" font-size=\"14.00\" fill=\"#000000\">Hidden Layer 2</text>\n</g>\n<g id=\"clust4\" class=\"cluster\">\n<title>cluster_output</title>\n<polygon fill=\"none\" stroke=\"#ffffff\" points=\"322,-174 322,-261 416,-261 416,-174 322,-174\"/>\n<text text-anchor=\"middle\" x=\"369\" y=\"-181.8\" font-family=\"Times,serif\" font-size=\"14.00\" fill=\"#000000\">Output Layer</text>\n</g>\n<!-- 1 -->\n<g id=\"node1\" class=\"node\">\n<title>1</title>\n<ellipse fill=\"#ff006d\" stroke=\"#ff006d\" cx=\"41.5\" cy=\"-353\" rx=\"23.5\" ry=\"23.5\"/>\n<text text-anchor=\"middle\" x=\"41.5\" y=\"-349.3\" font-family=\"Times,serif\" font-size=\"14.00\" fill=\"#ff006d\">1</text>\n</g>\n<!-- 5 -->\n<g id=\"node5\" class=\"node\">\n<title>5</title>\n<ellipse fill=\"#01befe\" stroke=\"#01befe\" cx=\"145.5\" cy=\"-146\" rx=\"23.5\" ry=\"23.5\"/>\n<text text-anchor=\"middle\" x=\"145.5\" y=\"-142.3\" font-family=\"Times,serif\" font-size=\"14.00\" fill=\"#01befe\">5</text>\n</g>\n<!-- 1&#45;&gt;5 -->\n<g id=\"edge1\" class=\"edge\">\n<title>1&#45;&gt;5</title>\n<path fill=\"none\" stroke=\"#707070\" stroke-width=\"2\" d=\"M52.2381,-331.627C72.2189,-291.8576 114.8838,-206.9379 134.8203,-167.2567\"/>\n</g>\n<!-- 6 -->\n<g id=\"node6\" class=\"node\">\n<title>6</title>\n<ellipse fill=\"#01befe\" stroke=\"#01befe\" cx=\"145.5\" cy=\"-63\" rx=\"23.5\" ry=\"23.5\"/>\n<text text-anchor=\"middle\" x=\"145.5\" y=\"-59.3\" font-family=\"Times,serif\" font-size=\"14.00\" fill=\"#01befe\">6</text>\n</g>\n<!-- 1&#45;&gt;6 -->\n<g id=\"edge5\" class=\"edge\">\n<title>1&#45;&gt;6</title>\n<path fill=\"none\" stroke=\"#707070\" stroke-width=\"2\" d=\"M49.488,-330.7257C68.8467,-276.7449 118.0981,-139.409 137.4848,-85.3502\"/>\n</g>\n<!-- 7 -->\n<g id=\"node7\" class=\"node\">\n<title>7</title>\n<ellipse fill=\"#01befe\" stroke=\"#01befe\" cx=\"145.5\" cy=\"-395\" rx=\"23.5\" ry=\"23.5\"/>\n<text text-anchor=\"middle\" x=\"145.5\" y=\"-391.3\" font-family=\"Times,serif\" font-size=\"14.00\" fill=\"#01befe\">7</text>\n</g>\n<!-- 1&#45;&gt;7 -->\n<g id=\"edge9\" class=\"edge\">\n<title>1&#45;&gt;7</title>\n<path fill=\"none\" stroke=\"#707070\" stroke-width=\"2\" d=\"M63.3018,-361.8046C80.9324,-368.9246 105.6506,-378.907 123.3687,-386.0624\"/>\n</g>\n<!-- 8 -->\n<g id=\"node8\" class=\"node\">\n<title>8</title>\n<ellipse fill=\"#01befe\" stroke=\"#01befe\" cx=\"145.5\" cy=\"-312\" rx=\"23.5\" ry=\"23.5\"/>\n<text text-anchor=\"middle\" x=\"145.5\" y=\"-308.3\" font-family=\"Times,serif\" font-size=\"14.00\" fill=\"#01befe\">8</text>\n</g>\n<!-- 1&#45;&gt;8 -->\n<g id=\"edge13\" class=\"edge\">\n<title>1&#45;&gt;8</title>\n<path fill=\"none\" stroke=\"#707070\" stroke-width=\"2\" d=\"M63.5557,-344.305C81.2049,-337.3471 105.8353,-327.637 123.4761,-320.6825\"/>\n</g>\n<!-- 9 -->\n<g id=\"node9\" class=\"node\">\n<title>9</title>\n<ellipse fill=\"#01befe\" stroke=\"#01befe\" cx=\"145.5\" cy=\"-229\" rx=\"23.5\" ry=\"23.5\"/>\n<text text-anchor=\"middle\" x=\"145.5\" y=\"-225.3\" font-family=\"Times,serif\" font-size=\"14.00\" fill=\"#01befe\">9</text>\n</g>\n<!-- 1&#45;&gt;9 -->\n<g id=\"edge17\" class=\"edge\">\n<title>1&#45;&gt;9</title>\n<path fill=\"none\" stroke=\"#707070\" stroke-width=\"2\" d=\"M56.6225,-334.9693C76.3402,-311.4598 110.6326,-270.5727 130.3593,-247.0524\"/>\n</g>\n<!-- 2 -->\n<g id=\"node2\" class=\"node\">\n<title>2</title>\n<ellipse fill=\"#ff006d\" stroke=\"#ff006d\" cx=\"41.5\" cy=\"-270\" rx=\"23.5\" ry=\"23.5\"/>\n<text text-anchor=\"middle\" x=\"41.5\" y=\"-266.3\" font-family=\"Times,serif\" font-size=\"14.00\" fill=\"#ff006d\">2</text>\n</g>\n<!-- 2&#45;&gt;5 -->\n<g id=\"edge2\" class=\"edge\">\n<title>2&#45;&gt;5</title>\n<path fill=\"none\" stroke=\"#707070\" stroke-width=\"2\" d=\"M56.6225,-251.9693C76.3402,-228.4598 110.6326,-187.5727 130.3593,-164.0524\"/>\n</g>\n<!-- 2&#45;&gt;6 -->\n<g id=\"edge6\" class=\"edge\">\n<title>2&#45;&gt;6</title>\n<path fill=\"none\" stroke=\"#707070\" stroke-width=\"2\" d=\"M52.2381,-248.627C72.2189,-208.8576 114.8838,-123.9379 134.8203,-84.2567\"/>\n</g>\n<!-- 2&#45;&gt;7 -->\n<g id=\"edge10\" class=\"edge\">\n<title>2&#45;&gt;7</title>\n<path fill=\"none\" stroke=\"#707070\" stroke-width=\"2\" d=\"M56.6225,-288.1761C76.3402,-311.8752 110.6326,-353.092 130.3593,-376.802\"/>\n</g>\n<!-- 2&#45;&gt;8 -->\n<g id=\"edge14\" class=\"edge\">\n<title>2&#45;&gt;8</title>\n<path fill=\"none\" stroke=\"#707070\" stroke-width=\"2\" d=\"M63.3018,-278.8046C80.9324,-285.9246 105.6506,-295.907 123.3687,-303.0624\"/>\n</g>\n<!-- 2&#45;&gt;9 -->\n<g id=\"edge18\" class=\"edge\">\n<title>2&#45;&gt;9</title>\n<path fill=\"none\" stroke=\"#707070\" stroke-width=\"2\" d=\"M63.5557,-261.305C81.2049,-254.3471 105.8353,-244.637 123.4761,-237.6825\"/>\n</g>\n<!-- 3 -->\n<g id=\"node3\" class=\"node\">\n<title>3</title>\n<ellipse fill=\"#ff006d\" stroke=\"#ff006d\" cx=\"41.5\" cy=\"-187\" rx=\"23.5\" ry=\"23.5\"/>\n<text text-anchor=\"middle\" x=\"41.5\" y=\"-183.3\" font-family=\"Times,serif\" font-size=\"14.00\" fill=\"#ff006d\">3</text>\n</g>\n<!-- 3&#45;&gt;5 -->\n<g id=\"edge3\" class=\"edge\">\n<title>3&#45;&gt;5</title>\n<path fill=\"none\" stroke=\"#707070\" stroke-width=\"2\" d=\"M63.5557,-178.305C81.2049,-171.3471 105.8353,-161.637 123.4761,-154.6825\"/>\n</g>\n<!-- 3&#45;&gt;6 -->\n<g id=\"edge7\" class=\"edge\">\n<title>3&#45;&gt;6</title>\n<path fill=\"none\" stroke=\"#707070\" stroke-width=\"2\" d=\"M56.6225,-168.9693C76.3402,-145.4598 110.6326,-104.5727 130.3593,-81.0524\"/>\n</g>\n<!-- 3&#45;&gt;7 -->\n<g id=\"edge11\" class=\"edge\">\n<title>3&#45;&gt;7</title>\n<path fill=\"none\" stroke=\"#707070\" stroke-width=\"2\" d=\"M52.0444,-208.0888C71.9775,-247.9551 114.973,-333.9461 134.9277,-373.8554\"/>\n</g>\n<!-- 3&#45;&gt;8 -->\n<g id=\"edge15\" class=\"edge\">\n<title>3&#45;&gt;8</title>\n<path fill=\"none\" stroke=\"#707070\" stroke-width=\"2\" d=\"M56.6225,-205.1761C76.3402,-228.8752 110.6326,-270.092 130.3593,-293.802\"/>\n</g>\n<!-- 3&#45;&gt;9 -->\n<g id=\"edge19\" class=\"edge\">\n<title>3&#45;&gt;9</title>\n<path fill=\"none\" stroke=\"#707070\" stroke-width=\"2\" d=\"M63.3018,-195.8046C80.9324,-202.9246 105.6506,-212.907 123.3687,-220.0624\"/>\n</g>\n<!-- 4 -->\n<g id=\"node4\" class=\"node\">\n<title>4</title>\n<ellipse fill=\"#ff006d\" stroke=\"#ff006d\" cx=\"41.5\" cy=\"-104\" rx=\"23.5\" ry=\"23.5\"/>\n<text text-anchor=\"middle\" x=\"41.5\" y=\"-100.3\" font-family=\"Times,serif\" font-size=\"14.00\" fill=\"#ff006d\">4</text>\n</g>\n<!-- 4&#45;&gt;5 -->\n<g id=\"edge4\" class=\"edge\">\n<title>4&#45;&gt;5</title>\n<path fill=\"none\" stroke=\"#707070\" stroke-width=\"2\" d=\"M63.3018,-112.8046C80.9324,-119.9246 105.6506,-129.907 123.3687,-137.0624\"/>\n</g>\n<!-- 4&#45;&gt;6 -->\n<g id=\"edge8\" class=\"edge\">\n<title>4&#45;&gt;6</title>\n<path fill=\"none\" stroke=\"#707070\" stroke-width=\"2\" d=\"M63.5557,-95.305C81.2049,-88.3471 105.8353,-78.637 123.4761,-71.6825\"/>\n</g>\n<!-- 4&#45;&gt;7 -->\n<g id=\"edge12\" class=\"edge\">\n<title>4&#45;&gt;7</title>\n<path fill=\"none\" stroke=\"#707070\" stroke-width=\"2\" d=\"M49.488,-126.3511C68.8467,-180.5181 118.0981,-318.3275 137.4848,-372.5728\"/>\n</g>\n<!-- 4&#45;&gt;8 -->\n<g id=\"edge16\" class=\"edge\">\n<title>4&#45;&gt;8</title>\n<path fill=\"none\" stroke=\"#707070\" stroke-width=\"2\" d=\"M52.0444,-125.0888C71.9775,-164.9551 114.973,-250.9461 134.9277,-290.8554\"/>\n</g>\n<!-- 4&#45;&gt;9 -->\n<g id=\"edge20\" class=\"edge\">\n<title>4&#45;&gt;9</title>\n<path fill=\"none\" stroke=\"#707070\" stroke-width=\"2\" d=\"M56.6225,-122.1761C76.3402,-145.8752 110.6326,-187.092 130.3593,-210.802\"/>\n</g>\n<!-- 10 -->\n<g id=\"node10\" class=\"node\">\n<title>10</title>\n<ellipse fill=\"#01befe\" stroke=\"#01befe\" cx=\"260.5\" cy=\"-146\" rx=\"23.5\" ry=\"23.5\"/>\n<text text-anchor=\"middle\" x=\"260.5\" y=\"-142.3\" font-family=\"Times,serif\" font-size=\"14.00\" fill=\"#01befe\">10</text>\n</g>\n<!-- 5&#45;&gt;10 -->\n<g id=\"edge21\" class=\"edge\">\n<title>5&#45;&gt;10</title>\n<path fill=\"none\" stroke=\"#707070\" stroke-width=\"2\" d=\"M169.0495,-146C188.8946,-146 217.1458,-146 236.982,-146\"/>\n</g>\n<!-- 11 -->\n<g id=\"node11\" class=\"node\">\n<title>11</title>\n<ellipse fill=\"#01befe\" stroke=\"#01befe\" cx=\"260.5\" cy=\"-312\" rx=\"23.5\" ry=\"23.5\"/>\n<text text-anchor=\"middle\" x=\"260.5\" y=\"-308.3\" font-family=\"Times,serif\" font-size=\"14.00\" fill=\"#01befe\">11</text>\n</g>\n<!-- 5&#45;&gt;11 -->\n<g id=\"edge26\" class=\"edge\">\n<title>5&#45;&gt;11</title>\n<path fill=\"none\" stroke=\"#707070\" stroke-width=\"2\" d=\"M158.917,-165.3672C181.0171,-197.2681 224.8303,-260.5116 246.9907,-292.4996\"/>\n</g>\n<!-- 12 -->\n<g id=\"node12\" class=\"node\">\n<title>12</title>\n<ellipse fill=\"#01befe\" stroke=\"#01befe\" cx=\"260.5\" cy=\"-229\" rx=\"23.5\" ry=\"23.5\"/>\n<text text-anchor=\"middle\" x=\"260.5\" y=\"-225.3\" font-family=\"Times,serif\" font-size=\"14.00\" fill=\"#01befe\">12</text>\n</g>\n<!-- 5&#45;&gt;12 -->\n<g id=\"edge31\" class=\"edge\">\n<title>5&#45;&gt;12</title>\n<path fill=\"none\" stroke=\"#707070\" stroke-width=\"2\" d=\"M164.7484,-159.8923C185.9768,-175.2137 219.9354,-199.7229 241.1888,-215.0623\"/>\n</g>\n<!-- 6&#45;&gt;10 -->\n<g id=\"edge22\" class=\"edge\">\n<title>6&#45;&gt;10</title>\n<path fill=\"none\" stroke=\"#707070\" stroke-width=\"2\" d=\"M164.7484,-76.8923C185.9768,-92.2137 219.9354,-116.7229 241.1888,-132.0623\"/>\n</g>\n<!-- 6&#45;&gt;11 -->\n<g id=\"edge27\" class=\"edge\">\n<title>6&#45;&gt;11</title>\n<path fill=\"none\" stroke=\"#707070\" stroke-width=\"2\" d=\"M155.5043,-84.6615C177.3081,-131.8715 228.8929,-243.5638 250.6007,-290.5659\"/>\n</g>\n<!-- 6&#45;&gt;12 -->\n<g id=\"edge32\" class=\"edge\">\n<title>6&#45;&gt;12</title>\n<path fill=\"none\" stroke=\"#707070\" stroke-width=\"2\" d=\"M158.917,-82.3672C181.0171,-114.2681 224.8303,-177.5116 246.9907,-209.4996\"/>\n</g>\n<!-- 7&#45;&gt;10 -->\n<g id=\"edge23\" class=\"edge\">\n<title>7&#45;&gt;10</title>\n<path fill=\"none\" stroke=\"#707070\" stroke-width=\"2\" d=\"M155.5043,-373.3385C177.3081,-326.1285 228.8929,-214.4362 250.6007,-167.4341\"/>\n</g>\n<!-- 7&#45;&gt;11 -->\n<g id=\"edge28\" class=\"edge\">\n<title>7&#45;&gt;11</title>\n<path fill=\"none\" stroke=\"#707070\" stroke-width=\"2\" d=\"M164.7484,-381.1077C185.9768,-365.7863 219.9354,-341.2771 241.1888,-325.9377\"/>\n</g>\n<!-- 7&#45;&gt;12 -->\n<g id=\"edge33\" class=\"edge\">\n<title>7&#45;&gt;12</title>\n<path fill=\"none\" stroke=\"#707070\" stroke-width=\"2\" d=\"M158.917,-375.6328C181.0171,-343.7319 224.8303,-280.4884 246.9907,-248.5004\"/>\n</g>\n<!-- 8&#45;&gt;10 -->\n<g id=\"edge24\" class=\"edge\">\n<title>8&#45;&gt;10</title>\n<path fill=\"none\" stroke=\"#707070\" stroke-width=\"2\" d=\"M158.917,-292.6328C181.0171,-260.7319 224.8303,-197.4884 246.9907,-165.5004\"/>\n</g>\n<!-- 8&#45;&gt;11 -->\n<g id=\"edge29\" class=\"edge\">\n<title>8&#45;&gt;11</title>\n<path fill=\"none\" stroke=\"#707070\" stroke-width=\"2\" d=\"M169.0495,-312C188.8946,-312 217.1458,-312 236.982,-312\"/>\n</g>\n<!-- 8&#45;&gt;12 -->\n<g id=\"edge34\" class=\"edge\">\n<title>8&#45;&gt;12</title>\n<path fill=\"none\" stroke=\"#707070\" stroke-width=\"2\" d=\"M164.7484,-298.1077C185.9768,-282.7863 219.9354,-258.2771 241.1888,-242.9377\"/>\n</g>\n<!-- 9&#45;&gt;10 -->\n<g id=\"edge25\" class=\"edge\">\n<title>9&#45;&gt;10</title>\n<path fill=\"none\" stroke=\"#707070\" stroke-width=\"2\" d=\"M164.7484,-215.1077C185.9768,-199.7863 219.9354,-175.2771 241.1888,-159.9377\"/>\n</g>\n<!-- 9&#45;&gt;11 -->\n<g id=\"edge30\" class=\"edge\">\n<title>9&#45;&gt;11</title>\n<path fill=\"none\" stroke=\"#707070\" stroke-width=\"2\" d=\"M164.7484,-242.8923C185.9768,-258.2137 219.9354,-282.7229 241.1888,-298.0623\"/>\n</g>\n<!-- 9&#45;&gt;12 -->\n<g id=\"edge35\" class=\"edge\">\n<title>9&#45;&gt;12</title>\n<path fill=\"none\" stroke=\"#707070\" stroke-width=\"2\" d=\"M169.0495,-229C188.8946,-229 217.1458,-229 236.982,-229\"/>\n</g>\n<!-- 13 -->\n<g id=\"node13\" class=\"node\">\n<title>13</title>\n<ellipse fill=\"#93d30c\" stroke=\"#93d30c\" cx=\"368.5\" cy=\"-229\" rx=\"23.5\" ry=\"23.5\"/>\n<text text-anchor=\"middle\" x=\"368.5\" y=\"-225.3\" font-family=\"Times,serif\" font-size=\"14.00\" fill=\"#93d30c\">13</text>\n</g>\n<!-- 10&#45;&gt;13 -->\n<g id=\"edge36\" class=\"edge\">\n<title>10&#45;&gt;13</title>\n<path fill=\"none\" stroke=\"#707070\" stroke-width=\"2\" d=\"M279.3122,-160.4575C299.014,-175.5987 329.7845,-199.2464 349.541,-214.4297\"/>\n</g>\n<!-- 11&#45;&gt;13 -->\n<g id=\"edge37\" class=\"edge\">\n<title>11&#45;&gt;13</title>\n<path fill=\"none\" stroke=\"#707070\" stroke-width=\"2\" d=\"M279.3122,-297.5425C299.014,-282.4013 329.7845,-258.7536 349.541,-243.5703\"/>\n</g>\n<!-- 12&#45;&gt;13 -->\n<g id=\"edge38\" class=\"edge\">\n<title>12&#45;&gt;13</title>\n<path fill=\"none\" stroke=\"#707070\" stroke-width=\"2\" d=\"M284.2011,-229C302.208,-229 326.8609,-229 344.8542,-229\"/>\n</g>\n</g>\n</svg>\n",
            "text/plain": [
              "<graphviz.dot.Digraph at 0x7f2a40717710>"
            ]
          },
          "execution_count": 58,
          "metadata": {},
          "output_type": "execute_result"
        }
      ],
      "source": [
        "net = Net(X_train.shape[1])\n",
        "\n",
        "ann_viz(net, view=False)"
      ]
    },
    {
      "cell_type": "code",
      "execution_count": null,
      "metadata": {
        "id": "GHUaKGKVSOMV"
      },
      "outputs": [],
      "source": [
        "optimizer = optim.Adam(net.parameters(), lr=0.001)"
      ]
    },
    {
      "cell_type": "code",
      "execution_count": null,
      "metadata": {
        "id": "bO2zmAoMSQtk"
      },
      "outputs": [],
      "source": [
        "device = torch.device(\"cuda:0\" if torch.cuda.is_available() else \"cpu\")\n",
        "X_train = X_train.to(device)\n",
        "y_train = Y_train.to(device)\n",
        "\n",
        "X_test = X_test.to(device)\n",
        "y_test = Y_test.to(device)\n",
        "net = net.to(device)\n",
        "\n",
        "criterion = criterion.to(device)"
      ]
    },
    {
      "cell_type": "code",
      "execution_count": null,
      "metadata": {
        "id": "KFnYgW8rSSCv"
      },
      "outputs": [],
      "source": [
        "def calculate_accuracy(y_true, y_pred):\n",
        "  predicted = y_pred.ge(.5).view(-1)\n",
        "  return (y_true == predicted).sum().float() / len(y_true)  "
      ]
    },
    {
      "cell_type": "code",
      "execution_count": null,
      "metadata": {
        "colab": {
          "base_uri": "https://localhost:8080/"
        },
        "id": "UzpzB44DSUjp",
        "outputId": "3761bfce-674f-4ee9-ed3a-b602385c9878"
      },
      "outputs": [
        {
          "name": "stdout",
          "output_type": "stream",
          "text": [
            "epoch 0\n",
            "Train set - loss: 2.514, accuracy: 0.779\n",
            "Test  set - loss: 0.0, accuracy: 1.0\n",
            "\n",
            "epoch 100\n",
            "Train set - loss: 0.457, accuracy: 0.793\n",
            "Test  set - loss: 0.0, accuracy: 1.0\n",
            "\n",
            "epoch 200\n",
            "Train set - loss: 0.435, accuracy: 0.801\n",
            "Test  set - loss: 0.0, accuracy: 1.0\n",
            "\n",
            "epoch 300\n",
            "Train set - loss: 0.421, accuracy: 0.814\n",
            "Test  set - loss: 0.0, accuracy: 1.0\n",
            "\n",
            "epoch 400\n",
            "Train set - loss: 0.413, accuracy: 0.826\n",
            "Test  set - loss: 0.0, accuracy: 1.0\n",
            "\n",
            "epoch 500\n",
            "Train set - loss: 0.408, accuracy: 0.832\n",
            "Test  set - loss: 0.0, accuracy: 1.0\n",
            "\n",
            "epoch 600\n",
            "Train set - loss: 0.406, accuracy: 0.833\n",
            "Test  set - loss: 0.0, accuracy: 1.0\n",
            "\n",
            "epoch 700\n",
            "Train set - loss: 0.405, accuracy: 0.834\n",
            "Test  set - loss: 0.0, accuracy: 1.0\n",
            "\n",
            "epoch 800\n",
            "Train set - loss: 0.404, accuracy: 0.834\n",
            "Test  set - loss: 0.0, accuracy: 1.0\n",
            "\n",
            "epoch 900\n",
            "Train set - loss: 0.404, accuracy: 0.835\n",
            "Test  set - loss: 0.0, accuracy: 1.0\n",
            "\n"
          ]
        }
      ],
      "source": [
        "def round_tensor(t, decimal_places=3):\n",
        "  return round(t.item(), decimal_places)\n",
        "\n",
        "for epoch in range(1000):\n",
        "    \n",
        "    y_pred = net(X_train)\n",
        "    \n",
        "    y_pred = torch.squeeze(y_pred)\n",
        "    train_loss = criterion(y_pred, Y_train)\n",
        "    \n",
        "    if epoch % 100 == 0:\n",
        "      train_acc = calculate_accuracy(Y_train, y_pred)\n",
        "\n",
        "      y_test_pred = net(X_test)\n",
        "      y_test_pred = torch.squeeze(Y_test)\n",
        "\n",
        "      test_loss = criterion(y_test_pred, Y_test)\n",
        "\n",
        "      test_acc = calculate_accuracy(Y_test, y_test_pred)\n",
        "      print(\n",
        "f'''epoch {epoch}\n",
        "Train set - loss: {round_tensor(train_loss)}, accuracy: {round_tensor(train_acc)}\n",
        "Test  set - loss: {round_tensor(test_loss)}, accuracy: {round_tensor(test_acc)}\n",
        "''')\n",
        "    \n",
        "    optimizer.zero_grad()\n",
        "    \n",
        "    train_loss.backward()\n",
        "    \n",
        "    optimizer.step()"
      ]
    },
    {
      "cell_type": "code",
      "execution_count": null,
      "metadata": {
        "colab": {
          "base_uri": "https://localhost:8080/"
        },
        "id": "Ao3LbFXQSV_C",
        "outputId": "fbb71742-aaaa-42f4-8b4e-e8758b8b97ff"
      },
      "outputs": [
        {
          "name": "stdout",
          "output_type": "stream",
          "text": [
            "              precision    recall  f1-score   support\n",
            "\n",
            "     No rain       0.85      0.96      0.90     19426\n",
            "     Raining       0.74      0.39      0.51      5512\n",
            "\n",
            "    accuracy                           0.83     24938\n",
            "   macro avg       0.79      0.68      0.71     24938\n",
            "weighted avg       0.82      0.83      0.81     24938\n",
            "\n"
          ]
        }
      ],
      "source": [
        "classes = ['No rain', 'Raining']\n",
        "\n",
        "y_pred = net(X_test)\n",
        "\n",
        "y_pred = y_pred.ge(.5).view(-1).cpu()\n",
        "Y_test = Y_test.cpu()\n",
        "\n",
        "print(classification_report(Y_test, y_pred, target_names=classes))"
      ]
    },
    {
      "cell_type": "code",
      "execution_count": null,
      "metadata": {
        "colab": {
          "base_uri": "https://localhost:8080/",
          "height": 529
        },
        "id": "3i3XCmmRSY6i",
        "outputId": "b5a3b107-b9a9-4f7e-b11c-13b11896c47d"
      },
      "outputs": [
        {
          "data": {
            "image/png": "[encoded data removed]",
            "text/plain": [
              "<Figure size 864x576 with 2 Axes>"
            ]
          },
          "metadata": {
            "image/png": {
              "height": 512,
              "width": 733
            }
          },
          "output_type": "display_data"
        }
      ],
      "source": [
        "cm = confusion_matrix(Y_test, y_pred)\n",
        "df_cm = pd.DataFrame(cm, index=classes, columns=classes)\n",
        "\n",
        "hmap = sns.heatmap(df_cm, annot=True, fmt=\"d\")\n",
        "hmap.yaxis.set_ticklabels(hmap.yaxis.get_ticklabels(), rotation=0, ha='right')\n",
        "hmap.xaxis.set_ticklabels(hmap.xaxis.get_ticklabels(), rotation=30, ha='right')\n",
        "plt.ylabel('True label')\n",
        "plt.xlabel('Predicted label');"
      ]
    }
  ],
  "metadata": {
    "colab": {
      "collapsed_sections": [],
      "provenance": []
    },
    "kernelspec": {
      "display_name": "Python 3",
      "name": "python3"
    },
    "language_info": {
      "name": "python"
    }
  },
  "nbformat": 4,
  "nbformat_minor": 0
}
