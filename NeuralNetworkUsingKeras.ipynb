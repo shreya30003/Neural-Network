{
  "nbformat": 4,
  "nbformat_minor": 0,
  "metadata": {
    "colab": {
      "provenance": [],
      "collapsed_sections": []
    },
    "kernelspec": {
      "name": "python3",
      "display_name": "Python 3"
    },
    "language_info": {
      "name": "python"
    }
  },
  "cells": [
    {
      "cell_type": "code",
      "execution_count": 2,
      "metadata": {
        "id": "8q7yMrd7Zi-p"
      },
      "outputs": [],
      "source": [
        "import pandas as pd"
      ]
    },
    {
      "cell_type": "code",
      "source": [
        "data = pd.read_csv(r\"/content/weatherAUS.csv\")"
      ],
      "metadata": {
        "id": "7S4Z0f2YZoc_"
      },
      "execution_count": 3,
      "outputs": []
    },
    {
      "cell_type": "code",
      "source": [
        "data.shape  "
      ],
      "metadata": {
        "id": "IIPRkQ4JZwJS",
        "colab": {
          "base_uri": "https://localhost:8080/"
        },
        "outputId": "3b6e7dfb-8e2c-4793-d4a1-781514118b7c"
      },
      "execution_count": 4,
      "outputs": [
        {
          "output_type": "execute_result",
          "data": {
            "text/plain": [
              "(43371, 23)"
            ]
          },
          "metadata": {},
          "execution_count": 4
        }
      ]
    },
    {
      "cell_type": "code",
      "source": [
        "data.columns"
      ],
      "metadata": {
        "id": "cMqy7aJoadTM",
        "colab": {
          "base_uri": "https://localhost:8080/"
        },
        "outputId": "8b2b4fa2-d4a2-4db2-b3e9-186b99a0bad1"
      },
      "execution_count": 5,
      "outputs": [
        {
          "output_type": "execute_result",
          "data": {
            "text/plain": [
              "Index(['Date', 'Location', 'MinTemp', 'MaxTemp', 'Rainfall', 'Evaporation',\n",
              "       'Sunshine', 'WindGustDir', 'WindGustSpeed', 'WindDir9am', 'WindDir3pm',\n",
              "       'WindSpeed9am', 'WindSpeed3pm', 'Humidity9am', 'Humidity3pm',\n",
              "       'Pressure9am', 'Pressure3pm', 'Cloud9am', 'Cloud3pm', 'Temp9am',\n",
              "       'Temp3pm', 'RainToday', 'RainTomorrow'],\n",
              "      dtype='object')"
            ]
          },
          "metadata": {},
          "execution_count": 5
        }
      ]
    },
    {
      "cell_type": "code",
      "source": [
        "col = ['Rainfall', 'Humidity3pm', 'Pressure9am', 'RainToday', 'RainTomorrow']\n",
        "data = data[col]"
      ],
      "metadata": {
        "id": "FvD99K6AagWm"
      },
      "execution_count": 6,
      "outputs": []
    },
    {
      "cell_type": "code",
      "source": [
        "data['RainToday'].replace({'No': 0, 'Yes': 1}, inplace = True)\n",
        "data['RainTomorrow'].replace({'No': 0, 'Yes': 1}, inplace = True)"
      ],
      "metadata": {
        "id": "rgBBUu74aiFo"
      },
      "execution_count": 7,
      "outputs": []
    },
    {
      "cell_type": "code",
      "source": [
        "data = data.dropna(how='any')"
      ],
      "metadata": {
        "id": "zLAttRHMalCe"
      },
      "execution_count": 8,
      "outputs": []
    },
    {
      "cell_type": "code",
      "source": [
        "dataset = data.values\n",
        "dataset"
      ],
      "metadata": {
        "id": "5nADyyHRKJpm",
        "colab": {
          "base_uri": "https://localhost:8080/"
        },
        "outputId": "bdb94de4-6e27-4e76-880d-c472f228cc82"
      },
      "execution_count": 9,
      "outputs": [
        {
          "output_type": "execute_result",
          "data": {
            "text/plain": [
              "array([[6.0000e-01, 2.2000e+01, 1.0077e+03, 0.0000e+00, 0.0000e+00],\n",
              "       [0.0000e+00, 2.5000e+01, 1.0106e+03, 0.0000e+00, 0.0000e+00],\n",
              "       [0.0000e+00, 3.0000e+01, 1.0076e+03, 0.0000e+00, 0.0000e+00],\n",
              "       ...,\n",
              "       [2.0000e-01, 3.1000e+01, 1.0019e+03, 0.0000e+00, 0.0000e+00],\n",
              "       [0.0000e+00, 6.7000e+01, 1.0178e+03, 0.0000e+00, 0.0000e+00],\n",
              "       [0.0000e+00, 5.1000e+01, 1.0085e+03, 0.0000e+00, 0.0000e+00]])"
            ]
          },
          "metadata": {},
          "execution_count": 9
        }
      ]
    },
    {
      "cell_type": "code",
      "source": [
        "X = dataset[:,0:4]"
      ],
      "metadata": {
        "id": "7nO8iuiNKYDX"
      },
      "execution_count": 10,
      "outputs": []
    },
    {
      "cell_type": "code",
      "source": [
        "Y = dataset[:,4]"
      ],
      "metadata": {
        "id": "uGZocCMXKsGg"
      },
      "execution_count": 11,
      "outputs": []
    },
    {
      "cell_type": "code",
      "source": [
        "from sklearn import preprocessing"
      ],
      "metadata": {
        "id": "Y-wdsc3UKw8x"
      },
      "execution_count": 12,
      "outputs": []
    },
    {
      "cell_type": "code",
      "source": [
        "min_max_scaler = preprocessing.MinMaxScaler()\n",
        "X_scale = min_max_scaler.fit_transform(X)"
      ],
      "metadata": {
        "id": "EQ0W9K1AK0cF"
      },
      "execution_count": 13,
      "outputs": []
    },
    {
      "cell_type": "code",
      "source": [
        "X_scale"
      ],
      "metadata": {
        "id": "O0gOHE-4K0ZC",
        "colab": {
          "base_uri": "https://localhost:8080/"
        },
        "outputId": "8f0772a4-561b-4f8b-c251-870c9b901391"
      },
      "execution_count": 14,
      "outputs": [
        {
          "output_type": "execute_result",
          "data": {
            "text/plain": [
              "array([[1.61725067e-03, 2.12121212e-01, 4.57912458e-01, 0.00000000e+00],\n",
              "       [0.00000000e+00, 2.42424242e-01, 5.06734007e-01, 0.00000000e+00],\n",
              "       [0.00000000e+00, 2.92929293e-01, 4.56228956e-01, 0.00000000e+00],\n",
              "       ...,\n",
              "       [5.39083558e-04, 3.03030303e-01, 3.60269360e-01, 0.00000000e+00],\n",
              "       [0.00000000e+00, 6.66666667e-01, 6.27946128e-01, 0.00000000e+00],\n",
              "       [0.00000000e+00, 5.05050505e-01, 4.71380471e-01, 0.00000000e+00]])"
            ]
          },
          "metadata": {},
          "execution_count": 14
        }
      ]
    },
    {
      "cell_type": "code",
      "source": [
        "from sklearn.model_selection import train_test_split"
      ],
      "metadata": {
        "id": "JXM9xfmsK0WT"
      },
      "execution_count": 15,
      "outputs": []
    },
    {
      "cell_type": "code",
      "source": [
        "X_train, X_val_and_test, Y_train, Y_val_and_test = train_test_split(X_scale, Y, test_size=0.3)"
      ],
      "metadata": {
        "id": "AOR5vZ9WK0T4"
      },
      "execution_count": 16,
      "outputs": []
    },
    {
      "cell_type": "code",
      "source": [
        "X_val, X_test, Y_val, Y_test = train_test_split(X_val_and_test, Y_val_and_test, test_size=0.5)"
      ],
      "metadata": {
        "id": "XjMvNVQdK0RK"
      },
      "execution_count": 17,
      "outputs": []
    },
    {
      "cell_type": "code",
      "source": [
        "print(X_train.shape, X_val.shape, X_test.shape, Y_train.shape, Y_val.shape, Y_test.shape)"
      ],
      "metadata": {
        "id": "28azvKqQK0OR",
        "colab": {
          "base_uri": "https://localhost:8080/"
        },
        "outputId": "5d5851cd-522e-40e6-e436-587f684900dc"
      },
      "execution_count": 18,
      "outputs": [
        {
          "output_type": "stream",
          "name": "stdout",
          "text": [
            "(24524, 4) (5255, 4) (5256, 4) (24524,) (5255,) (5256,)\n"
          ]
        }
      ]
    },
    {
      "cell_type": "code",
      "source": [
        "from keras.models import Sequential\n",
        "from keras.layers import Dense"
      ],
      "metadata": {
        "id": "5W15MA-BK0Mi"
      },
      "execution_count": 19,
      "outputs": []
    },
    {
      "cell_type": "code",
      "source": [
        "model = Sequential([Dense(32, activation='relu', input_shape=(None,4)),Dense(32, activation='relu'),Dense(1, activation='sigmoid'),])"
      ],
      "metadata": {
        "id": "EtCPIjDFLV9t"
      },
      "execution_count": 58,
      "outputs": []
    },
    {
      "cell_type": "code",
      "source": [
        "model.compile(optimizer='sgd',loss='binary_crossentropy',metrics=['accuracy'])"
      ],
      "metadata": {
        "id": "04b_J32rLZrf"
      },
      "execution_count": 46,
      "outputs": []
    },
    {
      "cell_type": "code",
      "source": [
        "hist = model.fit(X_train, Y_train,batch_size=32, epochs=10,validation_data=(X_val, Y_val))"
      ],
      "metadata": {
        "id": "px6Jg_KnPGkT",
        "colab": {
          "base_uri": "https://localhost:8080/"
        },
        "outputId": "ff2efbd9-e89c-4d2b-f1dc-8135e6c9b58d"
      },
      "execution_count": 47,
      "outputs": [
        {
          "output_type": "stream",
          "name": "stdout",
          "text": [
            "Epoch 1/10\n"
          ]
        },
        {
          "output_type": "stream",
          "name": "stderr",
          "text": [
            "WARNING:tensorflow:Model was constructed with shape (None, None, 4) for input KerasTensor(type_spec=TensorSpec(shape=(None, None, 4), dtype=tf.float32, name='dense_23_input'), name='dense_23_input', description=\"created by layer 'dense_23_input'\"), but it was called on an input with incompatible shape (None, 4).\n",
            "WARNING:tensorflow:Model was constructed with shape (None, None, 4) for input KerasTensor(type_spec=TensorSpec(shape=(None, None, 4), dtype=tf.float32, name='dense_23_input'), name='dense_23_input', description=\"created by layer 'dense_23_input'\"), but it was called on an input with incompatible shape (None, 4).\n"
          ]
        },
        {
          "output_type": "stream",
          "name": "stdout",
          "text": [
            "742/767 [============================>.] - ETA: 0s - loss: 0.5275 - accuracy: 0.7783"
          ]
        },
        {
          "output_type": "stream",
          "name": "stderr",
          "text": [
            "WARNING:tensorflow:Model was constructed with shape (None, None, 4) for input KerasTensor(type_spec=TensorSpec(shape=(None, None, 4), dtype=tf.float32, name='dense_23_input'), name='dense_23_input', description=\"created by layer 'dense_23_input'\"), but it was called on an input with incompatible shape (None, 4).\n"
          ]
        },
        {
          "output_type": "stream",
          "name": "stdout",
          "text": [
            "\b\b\b\b\b\b\b\b\b\b\b\b\b\b\b\b\b\b\b\b\b\b\b\b\b\b\b\b\b\b\b\b\b\b\b\b\b\b\b\b\b\b\b\b\b\b\b\b\b\b\b\b\b\b\b\b\b\b\b\b\b\b\b\b\b\b\b\b\b\b\b\b\b\b\b\b\b\b\b\b\b\b\b\b\r767/767 [==============================] - 2s 2ms/step - loss: 0.5261 - accuracy: 0.7782 - val_loss: 0.4875 - val_accuracy: 0.7735\n",
            "Epoch 2/10\n",
            "767/767 [==============================] - 2s 2ms/step - loss: 0.4662 - accuracy: 0.7894 - val_loss: 0.4550 - val_accuracy: 0.8082\n",
            "Epoch 3/10\n",
            "767/767 [==============================] - 1s 2ms/step - loss: 0.4382 - accuracy: 0.8187 - val_loss: 0.4295 - val_accuracy: 0.8185\n",
            "Epoch 4/10\n",
            "767/767 [==============================] - 1s 2ms/step - loss: 0.4138 - accuracy: 0.8216 - val_loss: 0.4101 - val_accuracy: 0.8228\n",
            "Epoch 5/10\n",
            "767/767 [==============================] - 2s 2ms/step - loss: 0.3983 - accuracy: 0.8320 - val_loss: 0.4000 - val_accuracy: 0.8337\n",
            "Epoch 6/10\n",
            "767/767 [==============================] - 1s 2ms/step - loss: 0.3921 - accuracy: 0.8364 - val_loss: 0.3975 - val_accuracy: 0.8344\n",
            "Epoch 7/10\n",
            "767/767 [==============================] - 1s 2ms/step - loss: 0.3904 - accuracy: 0.8364 - val_loss: 0.3990 - val_accuracy: 0.8297\n",
            "Epoch 8/10\n",
            "767/767 [==============================] - 1s 2ms/step - loss: 0.3896 - accuracy: 0.8372 - val_loss: 0.3975 - val_accuracy: 0.8344\n",
            "Epoch 9/10\n",
            "767/767 [==============================] - 1s 2ms/step - loss: 0.3891 - accuracy: 0.8374 - val_loss: 0.3963 - val_accuracy: 0.8348\n",
            "Epoch 10/10\n",
            "767/767 [==============================] - 1s 2ms/step - loss: 0.3886 - accuracy: 0.8376 - val_loss: 0.3972 - val_accuracy: 0.8297\n"
          ]
        }
      ]
    },
    {
      "cell_type": "code",
      "source": [
        "model.evaluate(X_test, Y_test)[1]"
      ],
      "metadata": {
        "id": "4TYm_8hhQOdt",
        "colab": {
          "base_uri": "https://localhost:8080/"
        },
        "outputId": "34ad71d2-de2d-4cdd-de5f-a0b18fd2cb62"
      },
      "execution_count": 48,
      "outputs": [
        {
          "output_type": "stream",
          "name": "stdout",
          "text": [
            "165/165 [==============================] - 0s 1ms/step - loss: 0.3997 - accuracy: 0.8297\n"
          ]
        },
        {
          "output_type": "execute_result",
          "data": {
            "text/plain": [
              "0.8297184109687805"
            ]
          },
          "metadata": {},
          "execution_count": 48
        }
      ]
    },
    {
      "cell_type": "code",
      "source": [
        "import matplotlib.pyplot as plt"
      ],
      "metadata": {
        "id": "9b6I_QgxT5kS"
      },
      "execution_count": 49,
      "outputs": []
    },
    {
      "cell_type": "code",
      "source": [
        "plt.plot(hist.history['loss'])\n",
        "plt.plot(hist.history['val_loss'])\n",
        "plt.title('Model loss')\n",
        "plt.ylabel('Loss')\n",
        "plt.xlabel('Epoch')\n",
        "plt.legend(['Train', 'Val'], loc='upper right')\n",
        "plt.show()"
      ],
      "metadata": {
        "colab": {
          "base_uri": "https://localhost:8080/",
          "height": 295
        },
        "id": "M_aKGTNjAIZ2",
        "outputId": "57deb4c8-b09e-4737-e534-01be10db3e47"
      },
      "execution_count": 50,
      "outputs": [
        {
          "output_type": "display_data",
          "data": {
            "text/plain": [
              "<Figure size 432x288 with 1 Axes>"
            ],
            "image/png": "[encoded data removed]"
          },
          "metadata": {
            "needs_background": "light"
          }
        }
      ]
    },
    {
      "cell_type": "code",
      "source": [
        "plt.plot(hist.history['accuracy'])\n",
        "plt.plot(hist.history['val_accuracy'])\n",
        "plt.title('Model accuracy')\n",
        "plt.ylabel('Accuracy')\n",
        "plt.xlabel('Epoch')\n",
        "plt.legend(['Train', 'Val'], loc='lower right')\n",
        "plt.show()"
      ],
      "metadata": {
        "colab": {
          "base_uri": "https://localhost:8080/",
          "height": 295
        },
        "id": "rNUdB9GNAXn8",
        "outputId": "01c238ba-6ccc-483e-c80c-ee7eacd16416"
      },
      "execution_count": 51,
      "outputs": [
        {
          "output_type": "display_data",
          "data": {
            "text/plain": [
              "<Figure size 432x288 with 1 Axes>"
            ],
            "image/png": "[encoded data removed]"
          },
          "metadata": {
            "needs_background": "light"
          }
        }
      ]
    }
  ]
}